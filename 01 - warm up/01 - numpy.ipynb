{
  "cells": [
    {
      "cell_type": "markdown",
      "source": [
        "# Exercise 1 - np.fromFunctionname\n",
        "Change the function to name to my_function_firstname, where firstname is your first name.\n",
        "\n",
        "Let the function return an integer value stored in one byte i.e. ‘int8’ of (2x)*(3y). Where x is the number of rows and y is the number of columns.\n",
        "\n",
        " Use np.fromfunction() to generate  three elements each are two by six using the  new my_fuction_firstname."
      ],
      "metadata": {
        "id": "H9p1SxOyjFOn"
      }
    },
    {
      "cell_type": "code",
      "source": [
        "def my_function_renzo(z, x, y):\n",
        "  return 2 * x * 3 * y\n",
        "\n",
        "answer = np.fromfunction(my_function_renzo, (3, 2, 6), dtype=\"int8\")\n",
        "print(\"Data type of values in numpy array\\n\", answer.dtype)\n",
        "print(\"Answer and Data type\\n\", answer, answer.dtype)\n",
        "print(\"test\", answer.data)"
      ],
      "metadata": {
        "colab": {
          "base_uri": "https://localhost:8080/"
        },
        "id": "CqUmEUkDd0Oj",
        "outputId": "a3a84b5d-bc3d-4d49-8996-a725c271baa8"
      },
      "execution_count": null,
      "outputs": [
        {
          "output_type": "stream",
          "name": "stdout",
          "text": [
            "Data type of values in numpy array\n",
            " int8\n",
            "Answer and Data type\n",
            " [[[ 0  0  0  0  0  0]\n",
            "  [ 0  6 12 18 24 30]]\n",
            "\n",
            " [[ 0  0  0  0  0  0]\n",
            "  [ 0  6 12 18 24 30]]\n",
            "\n",
            " [[ 0  0  0  0  0  0]\n",
            "  [ 0  6 12 18 24 30]]] int8\n",
            "test <memory at 0x7fef2d1b2450>\n"
          ]
        }
      ]
    },
    {
      "cell_type": "markdown",
      "source": [
        "# Exercise 2 - Data buffer\n",
        "\n",
        "Change the name of the array from ‘f’ to your firstname and the type from 4 bytes to 2 bytes and rerun both cells and notice the difference."
      ],
      "metadata": {
        "id": "b66_wwskm8Ya"
      }
    },
    {
      "cell_type": "code",
      "source": [
        "renzo = np.array([[1,2],[1000, 2000]], dtype=np.int16)\n",
        "print(renzo)\n",
        "print('\\n')\n",
        "renzo.data.tobytes()\n",
        "\n",
        "# We can see that the np array is stored in the memory using 8 blocks of 2 bits each one, \n",
        "# thus 2x8 = 16 bits. If we change to 32, then the memory expands to 16 slots of 2 bits each one"
      ],
      "metadata": {
        "colab": {
          "base_uri": "https://localhost:8080/"
        },
        "id": "1KiCZRo6nQSA",
        "outputId": "462f9c41-efea-44a0-8b1c-b796486587fb"
      },
      "execution_count": null,
      "outputs": [
        {
          "output_type": "stream",
          "name": "stdout",
          "text": [
            "[[   1    2]\n",
            " [1000 2000]]\n",
            "\n",
            "\n"
          ]
        },
        {
          "output_type": "execute_result",
          "data": {
            "text/plain": [
              "b'\\x01\\x00\\x02\\x00\\xe8\\x03\\xd0\\x07'"
            ]
          },
          "metadata": {},
          "execution_count": 87
        }
      ]
    },
    {
      "cell_type": "markdown",
      "metadata": {
        "id": "P-vgGrBYNOqc"
      },
      "source": [
        "## `data` buffer\n",
        "An array's data is actually stored in memory as a flat (one dimensional) byte buffer. It is available *via* the `data` attribute (you will rarely need it, though)."
      ]
    },
    {
      "cell_type": "code",
      "execution_count": null,
      "metadata": {
        "colab": {
          "base_uri": "https://localhost:8080/"
        },
        "id": "VQmXB-S7NOqc",
        "outputId": "a5bde464-7f94-489d-d7de-92d79df92d0e"
      },
      "outputs": [
        {
          "output_type": "execute_result",
          "data": {
            "text/plain": [
              "<memory at 0x7fef2d1ebad0>"
            ]
          },
          "metadata": {},
          "execution_count": 88
        }
      ],
      "source": [
        "f = np.array([[1,2],[1000, 2000]], dtype=np.int32)\n",
        "f.data"
      ]
    },
    {
      "cell_type": "markdown",
      "metadata": {
        "id": "lH2SMMU6NOqd"
      },
      "source": [
        "In python 2, `f.data` is a buffer. In python 3, it is a memoryview."
      ]
    },
    {
      "cell_type": "code",
      "execution_count": null,
      "metadata": {
        "id": "mNlf13J3NOqd",
        "outputId": "4f3096a8-21e9-4369-e035-079633f1b707",
        "colab": {
          "base_uri": "https://localhost:8080/"
        }
      },
      "outputs": [
        {
          "output_type": "execute_result",
          "data": {
            "text/plain": [
              "b'\\x01\\x00\\x00\\x00\\x02\\x00\\x00\\x00\\xe8\\x03\\x00\\x00\\xd0\\x07\\x00\\x00'"
            ]
          },
          "metadata": {},
          "execution_count": 89
        }
      ],
      "source": [
        "if (hasattr(f.data, \"tobytes\")):\n",
        "    data_bytes = f.data.tobytes() # python 3\n",
        "else:\n",
        "    data_bytes = memoryview(f.data).tobytes() # python 2\n",
        "\n",
        "data_bytes"
      ]
    },
    {
      "cell_type": "markdown",
      "metadata": {
        "id": "7oVlgOHeNOqd"
      },
      "source": [
        "Several `ndarrays` can share the same data buffer, meaning that modifying one will also modify the others. We will see an example in a minute."
      ]
    },
    {
      "cell_type": "markdown",
      "source": [
        "# Exercise 3 - Re-shape\n",
        "\t\n",
        "Add a cell at the end of the section to reshape g into a 2 by 12 ndaray and save it to a variable named g_firstname where firstname is your firstname."
      ],
      "metadata": {
        "id": "eI0uNYR7tXrQ"
      }
    },
    {
      "cell_type": "code",
      "source": [
        "g = np.arange(24)\n",
        "print(g)\n",
        "print(\"Rank:\", g.ndim)\n",
        "print(\"\\n\")\n",
        "\n",
        "g_renzo = g.reshape(2,12)\n",
        "print(g_renzo)"
      ],
      "metadata": {
        "colab": {
          "base_uri": "https://localhost:8080/"
        },
        "id": "GLFUxD3pttDp",
        "outputId": "6f361416-d792-43d9-a76e-0a4bab0b5afe"
      },
      "execution_count": null,
      "outputs": [
        {
          "output_type": "stream",
          "name": "stdout",
          "text": [
            "[ 0  1  2  3  4  5  6  7  8  9 10 11 12 13 14 15 16 17 18 19 20 21 22 23]\n",
            "Rank: 1\n",
            "\n",
            "\n",
            "[[ 0  1  2  3  4  5  6  7  8  9 10 11]\n",
            " [12 13 14 15 16 17 18 19 20 21 22 23]]\n"
          ]
        }
      ]
    },
    {
      "cell_type": "markdown",
      "source": [
        "# Exercise 4 - Upcasting\n",
        "\t\n",
        "Change the type of k1 to int32"
      ],
      "metadata": {
        "id": "1af886P8wxFp"
      }
    },
    {
      "cell_type": "code",
      "source": [
        "k1 = np.arange(0, 5, dtype=np.int32)\n",
        "print(k1.dtype, k1)\n"
      ],
      "metadata": {
        "colab": {
          "base_uri": "https://localhost:8080/"
        },
        "id": "qig8ZdOew3MF",
        "outputId": "656f4f56-1849-4b73-baeb-702f93c10805"
      },
      "execution_count": null,
      "outputs": [
        {
          "output_type": "stream",
          "name": "stdout",
          "text": [
            "int32 [0 1 2 3 4]\n"
          ]
        }
      ]
    },
    {
      "cell_type": "markdown",
      "source": [
        "# Exercise 5 - Conditional Operators\n",
        "\t\n",
        "Change the value of comparison from 25 to 35."
      ],
      "metadata": {
        "id": "EW75ygxRy45n"
      }
    },
    {
      "cell_type": "code",
      "source": [
        "m = np.array([20, -5, 30, 40])\n",
        "m < 35"
      ],
      "metadata": {
        "colab": {
          "base_uri": "https://localhost:8080/"
        },
        "id": "NGRCsKUZzAft",
        "outputId": "7905fe09-6a68-4b53-94f5-79f901e6cb54"
      },
      "execution_count": null,
      "outputs": [
        {
          "output_type": "execute_result",
          "data": {
            "text/plain": [
              "array([ True,  True,  True, False])"
            ]
          },
          "metadata": {},
          "execution_count": 92
        }
      ]
    },
    {
      "cell_type": "markdown",
      "source": [
        "# Exercise 6 - ndarray methods\n",
        "\n",
        "Add a cell showing the result of summing over axis 2 for array c and notice the difference."
      ],
      "metadata": {
        "id": "t8_hQfJw74Rq"
      }
    },
    {
      "cell_type": "code",
      "source": [
        "c=np.arange(24).reshape(2,3,4)\n",
        "c.sum(axis=2)\n",
        "\n",
        "# It is shown that the sum is done accross columns of each matrix"
      ],
      "metadata": {
        "colab": {
          "base_uri": "https://localhost:8080/"
        },
        "id": "f6MGKx748GWR",
        "outputId": "0569ce17-e8aa-4123-904d-ea4e259f0120"
      },
      "execution_count": null,
      "outputs": [
        {
          "output_type": "execute_result",
          "data": {
            "text/plain": [
              "array([[ 6, 22, 38],\n",
              "       [54, 70, 86]])"
            ]
          },
          "metadata": {},
          "execution_count": 93
        }
      ]
    },
    {
      "cell_type": "markdown",
      "metadata": {
        "id": "o7-AJqIBNOqr"
      },
      "source": [
        "## Universal functions\n",
        "NumPy also provides fast elementwise functions called *universal functions*, or **ufunc**. They are vectorized wrappers of simple functions. For example `square` returns a new `ndarray` which is a copy of the original `ndarray` except that each element is squared:"
      ]
    },
    {
      "cell_type": "code",
      "execution_count": null,
      "metadata": {
        "id": "Lpk_MpOqNOqr",
        "outputId": "66c9c6e8-be3e-4e7c-d467-c5dec4376545",
        "colab": {
          "base_uri": "https://localhost:8080/"
        }
      },
      "outputs": [
        {
          "output_type": "execute_result",
          "data": {
            "text/plain": [
              "array([[  6.25,   9.61,  49.  ],\n",
              "       [100.  , 121.  , 144.  ]])"
            ]
          },
          "metadata": {},
          "execution_count": 94
        }
      ],
      "source": [
        "a = np.array([[-2.5, 3.1, 7], [10, 11, 12]])\n",
        "np.square(a)"
      ]
    },
    {
      "cell_type": "markdown",
      "metadata": {
        "id": "sAyk8szSNOqr"
      },
      "source": [
        "Here are a few more useful unary ufuncs:"
      ]
    },
    {
      "cell_type": "code",
      "execution_count": null,
      "metadata": {
        "id": "8V60TkXdNOqs",
        "outputId": "861bd8cc-0f44-4883-8066-ce5d769569b2",
        "colab": {
          "base_uri": "https://localhost:8080/"
        }
      },
      "outputs": [
        {
          "output_type": "stream",
          "name": "stdout",
          "text": [
            "Original ndarray\n",
            "[[-2.5  3.1  7. ]\n",
            " [10.  11.  12. ]]\n",
            "\n",
            " absolute\n",
            "[[ 2.5  3.1  7. ]\n",
            " [10.  11.  12. ]]\n",
            "\n",
            " sqrt\n",
            "[[       nan 1.76068169 2.64575131]\n",
            " [3.16227766 3.31662479 3.46410162]]\n",
            "\n",
            " exp\n",
            "[[8.20849986e-02 2.21979513e+01 1.09663316e+03]\n",
            " [2.20264658e+04 5.98741417e+04 1.62754791e+05]]\n",
            "\n",
            " log\n",
            "[[       nan 1.13140211 1.94591015]\n",
            " [2.30258509 2.39789527 2.48490665]]\n",
            "\n",
            " sign\n",
            "[[-1.  1.  1.]\n",
            " [ 1.  1.  1.]]\n",
            "\n",
            " ceil\n",
            "[[-2.  4.  7.]\n",
            " [10. 11. 12.]]\n",
            "\n",
            " modf\n",
            "(array([[-0.5,  0.1,  0. ],\n",
            "       [ 0. ,  0. ,  0. ]]), array([[-2.,  3.,  7.],\n",
            "       [10., 11., 12.]]))\n",
            "\n",
            " isnan\n",
            "[[False False False]\n",
            " [False False False]]\n",
            "\n",
            " cos\n",
            "[[-0.80114362 -0.99913515  0.75390225]\n",
            " [-0.83907153  0.0044257   0.84385396]]\n"
          ]
        },
        {
          "output_type": "stream",
          "name": "stderr",
          "text": [
            "/usr/local/lib/python3.7/dist-packages/ipykernel_launcher.py:5: RuntimeWarning: invalid value encountered in sqrt\n",
            "  \"\"\"\n",
            "/usr/local/lib/python3.7/dist-packages/ipykernel_launcher.py:5: RuntimeWarning: invalid value encountered in log\n",
            "  \"\"\"\n"
          ]
        }
      ],
      "source": [
        "print(\"Original ndarray\")\n",
        "print(a)\n",
        "for func in (np.abs, np.sqrt, np.exp, np.log, np.sign, np.ceil, np.modf, np.isnan, np.cos):\n",
        "    print(\"\\n\", func.__name__)\n",
        "    print(func(a))"
      ]
    },
    {
      "cell_type": "markdown",
      "metadata": {
        "id": "Yr8RU73wNOqs"
      },
      "source": [
        "## Binary ufuncs\n",
        "There are also many binary ufuncs, that apply elementwise on two `ndarray`s.  Broadcasting rules are applied if the arrays do not have the same shape:"
      ]
    },
    {
      "cell_type": "code",
      "execution_count": null,
      "metadata": {
        "id": "R0It5KYGNOqs",
        "outputId": "8a300cae-a875-4511-ca21-dd726a5a80dc",
        "colab": {
          "base_uri": "https://localhost:8080/"
        }
      },
      "outputs": [
        {
          "output_type": "execute_result",
          "data": {
            "text/plain": [
              "array([ 3,  6,  2, 11])"
            ]
          },
          "metadata": {},
          "execution_count": 96
        }
      ],
      "source": [
        "a = np.array([1, -2, 3, 4])\n",
        "b = np.array([2, 8, -1, 7])\n",
        "np.add(a, b)  # equivalent to a + b"
      ]
    },
    {
      "cell_type": "code",
      "execution_count": null,
      "metadata": {
        "id": "HaW-YtHlNOqs",
        "outputId": "c59fd4c2-de5f-45d8-a721-25770b1656d4",
        "colab": {
          "base_uri": "https://localhost:8080/"
        }
      },
      "outputs": [
        {
          "output_type": "execute_result",
          "data": {
            "text/plain": [
              "array([False, False,  True, False])"
            ]
          },
          "metadata": {},
          "execution_count": 97
        }
      ],
      "source": [
        "np.greater(a, b)  # equivalent to a > b"
      ]
    },
    {
      "cell_type": "code",
      "execution_count": null,
      "metadata": {
        "id": "i11OdsVLNOqs",
        "outputId": "4df862c0-b04d-4db7-add5-078fc271bc85",
        "colab": {
          "base_uri": "https://localhost:8080/"
        }
      },
      "outputs": [
        {
          "output_type": "execute_result",
          "data": {
            "text/plain": [
              "array([2, 8, 3, 7])"
            ]
          },
          "metadata": {},
          "execution_count": 98
        }
      ],
      "source": [
        "np.maximum(a, b)"
      ]
    },
    {
      "cell_type": "code",
      "execution_count": null,
      "metadata": {
        "id": "hqaCiaC3NOqt",
        "outputId": "7b5f7f42-6191-4649-d5a0-b3d92165b7e7",
        "colab": {
          "base_uri": "https://localhost:8080/"
        }
      },
      "outputs": [
        {
          "output_type": "execute_result",
          "data": {
            "text/plain": [
              "array([ 1.,  2., -3.,  4.])"
            ]
          },
          "metadata": {},
          "execution_count": 99
        }
      ],
      "source": [
        "np.copysign(a, b)"
      ]
    },
    {
      "cell_type": "markdown",
      "source": [
        "# Exercise 7 - Binary ufuncs\n",
        "\n",
        "Add a cell to show the result of copysign of (b,a)"
      ],
      "metadata": {
        "id": "aZumn8fb9F-I"
      }
    },
    {
      "cell_type": "code",
      "source": [
        "a = np.array([1, -2, 3, 4])\n",
        "b = np.array([2, 8, -1, 7])\n",
        "\n",
        "np.copysign(b,a)"
      ],
      "metadata": {
        "colab": {
          "base_uri": "https://localhost:8080/"
        },
        "id": "ejnRi8dq9NGu",
        "outputId": "c4003087-e58b-4724-bd0a-aead73e9c2e6"
      },
      "execution_count": null,
      "outputs": [
        {
          "output_type": "execute_result",
          "data": {
            "text/plain": [
              "array([ 2., -8.,  1.,  7.])"
            ]
          },
          "metadata": {},
          "execution_count": 100
        }
      ]
    },
    {
      "cell_type": "markdown",
      "source": [
        "# Exercise 8 - Differences with regular python arrays\n",
        "\n",
        "Add a cell after amending the third element of a_slice to the value 2000 to print the final result of a"
      ],
      "metadata": {
        "id": "dR0EKSZO_dkO"
      }
    },
    {
      "cell_type": "code",
      "source": [
        "a = np.array([1, 5, 3, 19, 13, 7, 3])\n",
        "a_slice = a[2:6]\n",
        "a_slice[3] = 2000\n",
        "print(\"Final result of a array\", a)\n"
      ],
      "metadata": {
        "colab": {
          "base_uri": "https://localhost:8080/"
        },
        "id": "A8Xe8AbY_oIJ",
        "outputId": "50dc6222-0bf1-4000-c198-7d375f421c60"
      },
      "execution_count": null,
      "outputs": [
        {
          "output_type": "stream",
          "name": "stdout",
          "text": [
            "Final result of a array [   1    5    3   19   13 2000    3]\n"
          ]
        }
      ]
    },
    {
      "cell_type": "markdown",
      "source": [
        "# Exercise 9 - Multi-dimensional arrays\n",
        "\n",
        "Add a cell to extract values 16,17,18"
      ],
      "metadata": {
        "id": "ICC10TVjA-s4"
      }
    },
    {
      "cell_type": "code",
      "source": [
        "b = np.arange(48).reshape(4, 12)\n",
        "b\n",
        "b[1,4:7] #Extract values of first row, columns 4th to 7th"
      ],
      "metadata": {
        "colab": {
          "base_uri": "https://localhost:8080/"
        },
        "id": "UPGdQ6cTBI2E",
        "outputId": "d8958d44-ca7f-4f00-e744-eab8610c7a3c"
      },
      "execution_count": null,
      "outputs": [
        {
          "output_type": "execute_result",
          "data": {
            "text/plain": [
              "array([16, 17, 18])"
            ]
          },
          "metadata": {},
          "execution_count": 102
        }
      ]
    },
    {
      "cell_type": "markdown",
      "source": [
        "# Exercise 10 - Boolean Indexing\n",
        "\n",
        "Using Boolean indexing, add a cell to extract the first and last columns of array b.(name the boolean array  cols_on2_firstname where first name is your firstname)"
      ],
      "metadata": {
        "id": "io8ebTi7DyAf"
      }
    },
    {
      "cell_type": "code",
      "source": [
        "b = np.arange(48).reshape(4, 12)\n",
        "b\n",
        "print(\"b\", b)\n",
        "\n",
        "\n",
        "cols_on2_renzo = np.array([False for i in range(b.shape[1])]);\n",
        "cols_on2_renzo[0] = True;\n",
        "cols_on2_renzo[-1] = True;\n",
        "print(\"cols_on2_renzo => \", cols_on2_renzo)\n",
        "\n",
        "print(\"answer => \", b[:, cols_on2_renzo] )\n"
      ],
      "metadata": {
        "colab": {
          "base_uri": "https://localhost:8080/"
        },
        "id": "k3dWCmVLD5kq",
        "outputId": "9f214f48-4f8f-4034-b1b4-0c48abf6bbf0"
      },
      "execution_count": null,
      "outputs": [
        {
          "output_type": "stream",
          "name": "stdout",
          "text": [
            "b [[ 0  1  2  3  4  5  6  7  8  9 10 11]\n",
            " [12 13 14 15 16 17 18 19 20 21 22 23]\n",
            " [24 25 26 27 28 29 30 31 32 33 34 35]\n",
            " [36 37 38 39 40 41 42 43 44 45 46 47]]\n",
            "cols_on2_renzo =>  [ True False False False False False False False False False False  True]\n",
            "answer =>  [[ 0 11]\n",
            " [12 23]\n",
            " [24 35]\n",
            " [36 47]]\n"
          ]
        }
      ]
    },
    {
      "cell_type": "markdown",
      "source": [
        "# Exercise 11 - Iterating\n",
        "\n",
        "Add a cell to iterate over c and print the Boolean values for items equivalent to zeros."
      ],
      "metadata": {
        "id": "xB97yKJVMJX8"
      }
    },
    {
      "cell_type": "code",
      "source": [
        "c = np.arange(24).reshape(2, 3, 4)  # A 3D array (composed of two 3x4 matrices)\n",
        "\n",
        "for i in c.flat:\n",
        "    print(\"c[\", i, \"] = \", i, \"=>\", bool(i))"
      ],
      "metadata": {
        "colab": {
          "base_uri": "https://localhost:8080/"
        },
        "id": "A4alwogYMQmq",
        "outputId": "c5638335-bc4f-41df-f861-4208b8054cb9"
      },
      "execution_count": null,
      "outputs": [
        {
          "output_type": "stream",
          "name": "stdout",
          "text": [
            "c[ 0 ] =  0 => False\n",
            "c[ 1 ] =  1 => True\n",
            "c[ 2 ] =  2 => True\n",
            "c[ 3 ] =  3 => True\n",
            "c[ 4 ] =  4 => True\n",
            "c[ 5 ] =  5 => True\n",
            "c[ 6 ] =  6 => True\n",
            "c[ 7 ] =  7 => True\n",
            "c[ 8 ] =  8 => True\n",
            "c[ 9 ] =  9 => True\n",
            "c[ 10 ] =  10 => True\n",
            "c[ 11 ] =  11 => True\n",
            "c[ 12 ] =  12 => True\n",
            "c[ 13 ] =  13 => True\n",
            "c[ 14 ] =  14 => True\n",
            "c[ 15 ] =  15 => True\n",
            "c[ 16 ] =  16 => True\n",
            "c[ 17 ] =  17 => True\n",
            "c[ 18 ] =  18 => True\n",
            "c[ 19 ] =  19 => True\n",
            "c[ 20 ] =  20 => True\n",
            "c[ 21 ] =  21 => True\n",
            "c[ 22 ] =  22 => True\n",
            "c[ 23 ] =  23 => True\n"
          ]
        }
      ]
    },
    {
      "cell_type": "markdown",
      "source": [
        "# Exercise 12 - vstack\n",
        "\n",
        "Add a cell to create a variable name it q5_firstname where firstname is your firstname and vertically stack q1 and q2 and print the output."
      ],
      "metadata": {
        "id": "0KfJPtBvOEXy"
      }
    },
    {
      "cell_type": "code",
      "source": [
        "q1 = np.full((3,4), 1.0)\n",
        "q2 = np.full((4,4), 2.0)\n",
        "\n",
        "q5_renzo = np.vstack((q1,q2))\n",
        "print(\"q5_renzo\\n\", q5_renzo)"
      ],
      "metadata": {
        "colab": {
          "base_uri": "https://localhost:8080/"
        },
        "id": "tAFi0y-QOMMo",
        "outputId": "f9979edf-69ff-44cf-e9f5-1e7d35396a19"
      },
      "execution_count": null,
      "outputs": [
        {
          "output_type": "stream",
          "name": "stdout",
          "text": [
            "q5_renzo\n",
            " [[1. 1. 1. 1.]\n",
            " [1. 1. 1. 1.]\n",
            " [1. 1. 1. 1.]\n",
            " [2. 2. 2. 2.]\n",
            " [2. 2. 2. 2.]\n",
            " [2. 2. 2. 2.]\n",
            " [2. 2. 2. 2.]]\n"
          ]
        }
      ]
    },
    {
      "cell_type": "markdown",
      "source": [
        "# Exercise 13 - concatenate\n",
        "\n",
        "Add a cell to create a variable name it q8_firstname where firstname is your firstname , concatenate q1 and q3 and print the results."
      ],
      "metadata": {
        "id": "ubbqK5zwPf9e"
      }
    },
    {
      "cell_type": "code",
      "source": [
        "q3 = np.full((3,4), 3.0)\n",
        "\n",
        "\n",
        "q8_renzo = np.concatenate((q1,q3), axis=0)\n",
        "print(\"Vertical concatenation (axis=0)\\n\", q8_renzo)\n",
        "print(\"\\n\")\n",
        "q8_renzo = np.concatenate((q1,q3), axis=1)\n",
        "print(\"Horizontal concatenation (axis=1)\\n\", q8_renzo)\n"
      ],
      "metadata": {
        "colab": {
          "base_uri": "https://localhost:8080/"
        },
        "id": "BsoMqzx8QHKe",
        "outputId": "8afcd688-4c7a-42a4-e3ad-e3bce0fe71d2"
      },
      "execution_count": null,
      "outputs": [
        {
          "output_type": "stream",
          "name": "stdout",
          "text": [
            "Vertical concatenation (axis=0)\n",
            " [[1. 1. 1. 1.]\n",
            " [1. 1. 1. 1.]\n",
            " [1. 1. 1. 1.]\n",
            " [3. 3. 3. 3.]\n",
            " [3. 3. 3. 3.]\n",
            " [3. 3. 3. 3.]]\n",
            "\n",
            "\n",
            "Horizontal concatenation (axis=1)\n",
            " [[1. 1. 1. 1. 3. 3. 3. 3.]\n",
            " [1. 1. 1. 1. 3. 3. 3. 3.]\n",
            " [1. 1. 1. 1. 3. 3. 3. 3.]]\n"
          ]
        }
      ]
    },
    {
      "cell_type": "markdown",
      "source": [
        "# Exercise 14 - Transpose\n",
        "\n",
        "Add a cell and create a variable named t_firstname where firstname is your name, let the variable hold any ndaray size 2 by 7 with zero values, print the result then transpose and print the result."
      ],
      "metadata": {
        "id": "089P8Zpr1-Xl"
      }
    },
    {
      "cell_type": "code",
      "source": [
        "import numpy as np\n",
        "t = np.zeros((2,7))\n",
        "# t_renzo = \n",
        "print(\"Original array\\n\", t)\n",
        "print(\"\\n\")\n",
        "t_t = t.transpose(1,0)\n",
        "print(\"Transposed array\", t_t)\n"
      ],
      "metadata": {
        "colab": {
          "base_uri": "https://localhost:8080/"
        },
        "id": "ync1mblh2Mnq",
        "outputId": "fba1b27a-fe05-4b6c-8fe2-b5146e01b58c"
      },
      "execution_count": null,
      "outputs": [
        {
          "output_type": "stream",
          "name": "stdout",
          "text": [
            "Original array\n",
            " [[0. 0. 0. 0. 0. 0. 0.]\n",
            " [0. 0. 0. 0. 0. 0. 0.]]\n",
            "\n",
            "\n",
            "Transposed array [[0. 0.]\n",
            " [0. 0.]\n",
            " [0. 0.]\n",
            " [0. 0.]\n",
            " [0. 0.]\n",
            " [0. 0.]\n",
            " [0. 0.]]\n"
          ]
        }
      ]
    },
    {
      "cell_type": "markdown",
      "source": [
        "# Exercise 15 - Matrix Multiplication\n",
        "\n",
        "Add a cell to create 2 ndarys name the first a1 and the second a2. Both arrays should contain numbers in the range 0 to 7. Print a1 and a2. Create a new variable a3 which holds the product multiplication of a1 and a2 name it a3 and print the output of a3, then the shape of a3."
      ],
      "metadata": {
        "id": "nUcG_asCbsZW"
      }
    },
    {
      "cell_type": "code",
      "source": [
        "a1 = np.vstack((np.arange(7), np.arange(7)))\n",
        "print(\"a1 => \", a1.shape)\n",
        "\n",
        "a2 = np.arange(7).reshape(7,1);\n",
        "print(\"a2 => \", a2)\n",
        "\n",
        "a3 = a1.dot(a2);\n",
        "print(\"a3 => \", a3)\n",
        "\n",
        "\n",
        "\n"
      ],
      "metadata": {
        "colab": {
          "base_uri": "https://localhost:8080/"
        },
        "id": "6yclu0bMb778",
        "outputId": "63a3a5f6-c93a-4d6a-edca-7e63f689ea9e"
      },
      "execution_count": null,
      "outputs": [
        {
          "output_type": "stream",
          "name": "stdout",
          "text": [
            "a1 =>  (2, 7)\n",
            "a2 =>  [[0]\n",
            " [1]\n",
            " [2]\n",
            " [3]\n",
            " [4]\n",
            " [5]\n",
            " [6]]\n",
            "a3 =>  [[91]\n",
            " [91]]\n"
          ]
        }
      ]
    },
    {
      "cell_type": "markdown",
      "source": [
        "# Exercise 16 - Matrix inverse and pseudo-inverse\n",
        "Add a cell to create a new 4 by 4 ndaray with values between0 and 15, name the variable that holds the array your first name, print the array and the inverse of the array."
      ],
      "metadata": {
        "id": "HMf96AnLkFUO"
      }
    },
    {
      "cell_type": "code",
      "source": [
        "r1 = np.random.randint(15, size=(4,4))\n",
        "print(\"r1 => \", r1)\n",
        "\n",
        "import numpy.linalg as linalg \n",
        "\n",
        "print(\"\\n\")\n",
        "inv = linalg.inv(r1)\n",
        "print(\"inv => \", inv)\n",
        "print(\"\\n\")\n",
        "pinv = linalg.pinv(r1)\n",
        "print(\"pinv => \", pinv)\n"
      ],
      "metadata": {
        "colab": {
          "base_uri": "https://localhost:8080/"
        },
        "id": "3A437TnRkWJ3",
        "outputId": "5490b560-bf23-474c-b209-0c115862d55c"
      },
      "execution_count": null,
      "outputs": [
        {
          "output_type": "stream",
          "name": "stdout",
          "text": [
            "r1 =>  [[ 9  8 11  9]\n",
            " [ 4 11  7 11]\n",
            " [ 7 14 10 13]\n",
            " [ 4  7 10  8]]\n",
            "\n",
            "\n",
            "inv =>  [[ 0.22461538  0.00307692 -0.01230769 -0.23692308]\n",
            " [-0.31384615 -0.68923077  0.75692308  0.07076923]\n",
            " [-0.11384615 -0.28923077  0.15692308  0.27076923]\n",
            " [ 0.30461538  0.96307692 -0.85230769 -0.15692308]]\n",
            "\n",
            "\n",
            "pinv =>  [[ 0.22461538  0.00307692 -0.01230769 -0.23692308]\n",
            " [-0.31384615 -0.68923077  0.75692308  0.07076923]\n",
            " [-0.11384615 -0.28923077  0.15692308  0.27076923]\n",
            " [ 0.30461538  0.96307692 -0.85230769 -0.15692308]]\n"
          ]
        }
      ]
    },
    {
      "cell_type": "markdown",
      "source": [
        "# Exercise 16 - Identity Matrix\n",
        "\n",
        "Add a cell to create a 5 by 5 identity array."
      ],
      "metadata": {
        "id": "kXs8iDkLUafa"
      }
    },
    {
      "cell_type": "code",
      "source": [
        "ex16 = np.random.randint(24, size=(5,5))\n",
        "ex16\n",
        "ex16_identity = ex16.dot(np.linalg.inv(ex16))\n",
        "ex16_identity\n",
        "# or\n",
        "np.eye(5)"
      ],
      "metadata": {
        "colab": {
          "base_uri": "https://localhost:8080/"
        },
        "id": "tJt8uq3aUhhX",
        "outputId": "dbb5f7b1-e185-4624-c3bb-3f066f9f6e35"
      },
      "execution_count": null,
      "outputs": [
        {
          "output_type": "execute_result",
          "data": {
            "text/plain": [
              "array([[1., 0., 0., 0., 0.],\n",
              "       [0., 1., 0., 0., 0.],\n",
              "       [0., 0., 1., 0., 0.],\n",
              "       [0., 0., 0., 1., 0.],\n",
              "       [0., 0., 0., 0., 1.]])"
            ]
          },
          "metadata": {},
          "execution_count": 110
        }
      ]
    },
    {
      "cell_type": "markdown",
      "source": [
        "\n",
        "# Exercise 17 - Determinant\n",
        "\n",
        "Add a cell to create a 3 by 3 matrix with values generated randomly then printout the determinant of the matrix."
      ],
      "metadata": {
        "id": "SiIuJAwZVo4W"
      }
    },
    {
      "cell_type": "code",
      "source": [
        "ex17 = np.random.randint(10, size=(3,3))\n",
        "print(\"ex17 => \", ex17)\n",
        "\n",
        "det = linalg.det(ex17)\n",
        "print(\"det => \", det)"
      ],
      "metadata": {
        "colab": {
          "base_uri": "https://localhost:8080/"
        },
        "id": "QTsSn9-wVuKv",
        "outputId": "6d42866a-f41c-4ebb-83d0-9233f5f97668"
      },
      "execution_count": null,
      "outputs": [
        {
          "output_type": "stream",
          "name": "stdout",
          "text": [
            "ex17 =>  [[3 2 1]\n",
            " [4 4 6]\n",
            " [3 8 8]]\n",
            "det =>  -55.99999999999997\n"
          ]
        }
      ]
    },
    {
      "cell_type": "markdown",
      "source": [
        "# Exercise 18 - Eigenvalues and eigenvectors\n",
        "\n",
        "Add a cell to create a 4 by 4 matrix with values generated randomly, assign the matrix to a variable named e_firstname. Printout the Eigenvalue and eigenvectors of the matrix."
      ],
      "metadata": {
        "id": "y-P6R0X9Znn2"
      }
    },
    {
      "cell_type": "code",
      "source": [
        "e_renzo = np.random.randint(100, size=(4,4))\n",
        "print(\"e_renzo\", e_renzo)\n",
        "\n",
        "eigenvalues, eigenvectors = linalg.eig(e_renzo)\n",
        "print(\"eigenvalues => \", eigenvalues)\n",
        "\n",
        "print(\"eigenvectors => \", eigenvectors)"
      ],
      "metadata": {
        "colab": {
          "base_uri": "https://localhost:8080/"
        },
        "id": "PCdOA0gaaE_b",
        "outputId": "84d17e6e-5464-47f0-d3e8-ae7f8a2d634d"
      },
      "execution_count": null,
      "outputs": [
        {
          "output_type": "stream",
          "name": "stdout",
          "text": [
            "e_renzo [[29  9 57 12]\n",
            " [62 22 69 41]\n",
            " [55 48 87 62]\n",
            " [51 35 31 16]]\n",
            "eigenvalues =>  [179.27931453 +0.j          -4.79542585+25.83788597j\n",
            "  -4.79542585-25.83788597j -15.68846284 +0.j        ]\n",
            "eigenvectors =>  [[ 0.32599218+0.j          0.22516733-0.52491593j  0.22516733+0.52491593j\n",
            "   0.17122061+0.j        ]\n",
            " [ 0.52765312+0.j         -0.19648993-0.06598443j -0.19648993+0.06598443j\n",
            "  -0.70806661+0.j        ]\n",
            " [ 0.70281792+0.j          0.26538562+0.42370991j  0.26538562-0.42370991j\n",
            "  -0.1625458 +0.j        ]\n",
            " [ 0.34836511+0.j         -0.61712324+0.j         -0.61712324-0.j\n",
            "   0.66551036+0.j        ]]\n"
          ]
        }
      ]
    },
    {
      "cell_type": "markdown",
      "source": [
        "# Exercise 19 - Solving a systems of linear scalar equations\n",
        "\n",
        "\t\n",
        "Add a cell to solve the following linear equations:\n",
        "\n",
        "2x+4y+z =8\n",
        "\n",
        "3x+8y+2z =16\n",
        "\n",
        "X+2y+3z = -2\n",
        "\n",
        "Check the results using the allcolse method."
      ],
      "metadata": {
        "id": "mBLasc28bCl9"
      }
    },
    {
      "cell_type": "code",
      "source": [
        "coeffs = np.array([[2, 4, 1],[3, 8, 2], [1,  2, 3]]);\n",
        "depvars = np.array([8, 16, -2])\n",
        "\n",
        "solution = linalg.solve(coeffs, depvars)\n",
        "print(\"solution => \",  solution)\n",
        "\n",
        "# Checking solution\n",
        "\n",
        "coeffs.dot(solution), depvars\n",
        "# another way\n",
        "np.allclose(coeffs.dot(solution), depvars)"
      ],
      "metadata": {
        "colab": {
          "base_uri": "https://localhost:8080/"
        },
        "id": "sMqxWW0ObMwR",
        "outputId": "e8cafc70-679e-4aae-bf7f-5ac968105b87"
      },
      "execution_count": null,
      "outputs": [
        {
          "output_type": "stream",
          "name": "stdout",
          "text": [
            "solution =>  [ 0.   2.6 -2.4]\n"
          ]
        },
        {
          "output_type": "execute_result",
          "data": {
            "text/plain": [
              "True"
            ]
          },
          "metadata": {},
          "execution_count": 113
        }
      ]
    },
    {
      "cell_type": "markdown",
      "source": [
        "Exercise 20 - Vectorization\n",
        "\n",
        "Add cells to replicate the example but instead of sin use cos. Name the data data1 and produce a graph."
      ],
      "metadata": {
        "id": "0OOvyml_fWLH"
      }
    },
    {
      "cell_type": "code",
      "source": [
        "x_coords = np.arange(0, 1024);\n",
        "y_coords = np.arange(0, 768);\n",
        "\n",
        "X, Y = np.meshgrid(x_coords, y_coords);\n",
        "X"
      ],
      "metadata": {
        "colab": {
          "base_uri": "https://localhost:8080/"
        },
        "id": "DX2HI8fkhns1",
        "outputId": "1fcbc597-b6bf-4c6b-e999-6ed1d09d5b00"
      },
      "execution_count": null,
      "outputs": [
        {
          "output_type": "execute_result",
          "data": {
            "text/plain": [
              "array([[   0,    1,    2, ..., 1021, 1022, 1023],\n",
              "       [   0,    1,    2, ..., 1021, 1022, 1023],\n",
              "       [   0,    1,    2, ..., 1021, 1022, 1023],\n",
              "       ...,\n",
              "       [   0,    1,    2, ..., 1021, 1022, 1023],\n",
              "       [   0,    1,    2, ..., 1021, 1022, 1023],\n",
              "       [   0,    1,    2, ..., 1021, 1022, 1023]])"
            ]
          },
          "metadata": {},
          "execution_count": 114
        }
      ]
    },
    {
      "cell_type": "code",
      "source": [
        "Y"
      ],
      "metadata": {
        "colab": {
          "base_uri": "https://localhost:8080/"
        },
        "id": "Dhmb7uwemaYk",
        "outputId": "a735a7e3-80cd-4f34-cf31-3c7b9fee0bb2"
      },
      "execution_count": null,
      "outputs": [
        {
          "output_type": "execute_result",
          "data": {
            "text/plain": [
              "array([[  0,   0,   0, ...,   0,   0,   0],\n",
              "       [  1,   1,   1, ...,   1,   1,   1],\n",
              "       [  2,   2,   2, ...,   2,   2,   2],\n",
              "       ...,\n",
              "       [765, 765, 765, ..., 765, 765, 765],\n",
              "       [766, 766, 766, ..., 766, 766, 766],\n",
              "       [767, 767, 767, ..., 767, 767, 767]])"
            ]
          },
          "metadata": {},
          "execution_count": 115
        }
      ]
    },
    {
      "cell_type": "code",
      "source": [
        "print(\"X shape =>\", X.shape)\n",
        "print(\"Y shape =>\", Y.shape)"
      ],
      "metadata": {
        "colab": {
          "base_uri": "https://localhost:8080/"
        },
        "id": "tLKfAqJQm3K8",
        "outputId": "e6c53c68-e488-496d-f737-395d9a20a9e7"
      },
      "execution_count": null,
      "outputs": [
        {
          "output_type": "stream",
          "name": "stdout",
          "text": [
            "X shape => (768, 1024)\n",
            "Y shape => (768, 1024)\n"
          ]
        }
      ]
    },
    {
      "cell_type": "code",
      "source": [
        "data1 = np.cos(X*Y/40.5)\n",
        "data1.shape"
      ],
      "metadata": {
        "colab": {
          "base_uri": "https://localhost:8080/"
        },
        "id": "fYalc0R4nIWd",
        "outputId": "1a4d34ad-990c-4f94-f8bf-edea3fe47be3"
      },
      "execution_count": null,
      "outputs": [
        {
          "output_type": "execute_result",
          "data": {
            "text/plain": [
              "(768, 1024)"
            ]
          },
          "metadata": {},
          "execution_count": 117
        }
      ]
    },
    {
      "cell_type": "code",
      "source": [
        "# Create the graph\n",
        "import matplotlib.pyplot as plt\n",
        "import matplotlib.cm as cm\n",
        "\n",
        "fig = plt.figure(1, figsize=(7,6))\n",
        "plt.imshow(data1, cmap=cm.hot, interpolation=\"bicubic\") #cmpa: colormap\n",
        "plt.show()"
      ],
      "metadata": {
        "colab": {
          "base_uri": "https://localhost:8080/",
          "height": 345
        },
        "id": "ap6qR3_lnqcV",
        "outputId": "68b4076c-b0f1-46dd-ee23-3124cb9b9928"
      },
      "execution_count": null,
      "outputs": [
        {
          "output_type": "display_data",
          "data": {
            "image/png": "[encoded data removed]",
            "text/plain": [
              "<Figure size 504x432 with 1 Axes>"
            ]
          },
          "metadata": {
            "needs_background": "light"
          }
        }
      ]
    },
    {
      "cell_type": "markdown",
      "source": [
        "# Exercise 20 - Text Format\n",
        "Add cells to create a 4 by 4 matrix with values generated randomly, assign the matrix to a variable named sav_firstname. Save the matrix to an csv file named your firstname_sav. Load the csv file into a new variable called load_firstname."
      ],
      "metadata": {
        "id": "hIOUhUyio06u"
      }
    },
    {
      "cell_type": "code",
      "source": [
        "sav_renzo = np.random.rand(4,4)\n",
        "sav_renzo\n",
        "np.savetxt(\"my_array.csv\", sav_renzo)"
      ],
      "metadata": {
        "id": "1T04MwXAo66s"
      },
      "execution_count": null,
      "outputs": []
    },
    {
      "cell_type": "code",
      "source": [
        "with open(\"my_array.csv\", \"rt\") as f: #r for read, and t for text\n",
        "  print(\"content => \", f.read())\n"
      ],
      "metadata": {
        "colab": {
          "base_uri": "https://localhost:8080/"
        },
        "id": "N9bBHRl2pqRV",
        "outputId": "687d398d-daff-4a1c-9abf-7e694a2959fd"
      },
      "execution_count": null,
      "outputs": [
        {
          "output_type": "stream",
          "name": "stdout",
          "text": [
            "content =>  8.043313552121834631e-01 6.320077303985666139e-01 4.339644129611555101e-01 8.294037231323145853e-01\n",
            "5.175128012439045300e-02 8.079429289250544821e-01 4.442183419993598337e-01 8.637180234239890675e-01\n",
            "4.124547672819564026e-01 1.033167022580023797e-01 2.312770112620067264e-01 5.056673467047654302e-01\n",
            "1.283926869286479144e-01 6.604309807284923783e-01 7.050854007451877736e-01 8.187126077532806967e-01\n",
            "\n"
          ]
        }
      ]
    },
    {
      "cell_type": "code",
      "source": [
        "# customize delimiter\n",
        "np.savetxt(\"my_array.csv\", sav_renzo, delimiter=\",\")"
      ],
      "metadata": {
        "id": "fSCsq8mgrRtL"
      },
      "execution_count": null,
      "outputs": []
    },
    {
      "cell_type": "code",
      "source": [
        "load_renzo = np.loadtxt(\"my_array.csv\", delimiter=\",\")\n",
        "load_renzo"
      ],
      "metadata": {
        "colab": {
          "base_uri": "https://localhost:8080/"
        },
        "id": "M2Wou06qrfTl",
        "outputId": "28ce7b06-c6fb-4ca1-fac3-f150e191e436"
      },
      "execution_count": null,
      "outputs": [
        {
          "output_type": "execute_result",
          "data": {
            "text/plain": [
              "array([[0.80433136, 0.63200773, 0.43396441, 0.82940372],\n",
              "       [0.05175128, 0.80794293, 0.44421834, 0.86371802],\n",
              "       [0.41245477, 0.1033167 , 0.23127701, 0.50566735],\n",
              "       [0.12839269, 0.66043098, 0.7050854 , 0.81871261]])"
            ]
          },
          "metadata": {},
          "execution_count": 122
        }
      ]
    }
  ],
  "metadata": {
    "kernelspec": {
      "display_name": "Python 3",
      "language": "python",
      "name": "python3"
    },
    "language_info": {
      "codemirror_mode": {
        "name": "ipython",
        "version": 3
      },
      "file_extension": ".py",
      "mimetype": "text/x-python",
      "name": "python",
      "nbconvert_exporter": "python",
      "pygments_lexer": "ipython3",
      "version": "3.7.6"
    },
    "toc": {
      "toc_cell": false,
      "toc_number_sections": true,
      "toc_section_display": "block",
      "toc_threshold": 6,
      "toc_window_display": false
    },
    "toc_position": {
      "height": "677px",
      "left": "1195.02px",
      "right": "20px",
      "top": "78px",
      "width": "238px"
    },
    "colab": {
      "name": "supervised learning - assignment 01 - Numpy Lab Exercise (Instructions).ipynb.ipynb",
      "provenance": []
    }
  },
  "nbformat": 4,
  "nbformat_minor": 0
}